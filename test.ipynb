{
 "cells": [
  {
   "cell_type": "code",
   "execution_count": null,
   "metadata": {},
   "outputs": [],
   "source": [
    "# Using the most likely scenario from your solution to the Problem Situation\n",
    "# \"The Scientific Future of Tennis\", perform the following:\n",
    "\n",
    "# 1. Forecast how many tournaments will a player with the listed characteristics\n",
    "#    will win:\n",
    "\n",
    "# Variable\tPercentile\n",
    "# Speed of serve\t70\n",
    "# Years in the circuit\t60\n",
    "# All the other variables\t30\n",
    "\n",
    "\n",
    "# 2. Given that result and compared with the original result you had from this\n",
    "#    scenario, what can you conclude about the effect of the variables that you\n",
    "#    manipulated in the final outcome of tournaments? Explain."
   ]
  }
 ],
 "metadata": {
  "language_info": {
   "name": "python"
  }
 },
 "nbformat": 4,
 "nbformat_minor": 2
}
